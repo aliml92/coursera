{
 "cells": [
  {
   "cell_type": "markdown",
   "metadata": {
    "colab_type": "text",
    "id": "view-in-github"
   },
   "source": [
    "<a href=\"https://colab.research.google.com/github/aliml92/coursera_tensorflow/blob/main/Copy_of_C2W2_Assignment.ipynb\" target=\"_parent\"><img src=\"https://colab.research.google.com/assets/colab-badge.svg\" alt=\"Open In Colab\"/></a>"
   ]
  },
  {
   "cell_type": "markdown",
   "metadata": {
    "id": "AuW-xg_bTsaF"
   },
   "source": [
    "# Week 2: Tackle Overfitting with Data Augmentation\n",
    "\n",
    "Welcome to this assignment! As in the previous week, you will be using the famous `cats vs dogs` dataset to train a model that can classify images of dogs from images of cats. For this, you will create your own Convolutional Neural Network in Tensorflow and leverage Keras' image preprocessing utilities, more so this time around since Keras provides excellent support for augmenting image data.\n",
    "\n",
    "You will also need to create the helper functions to move the images around the filesystem as you did last week, so if you need to refresh your memory with the `os` module be sure to take a look a the [docs](https://docs.python.org/3/library/os.html).\n",
    "\n",
    "Let's get started!"
   ]
  },
  {
   "cell_type": "code",
   "execution_count": 1,
   "metadata": {
    "id": "dn-6c02VmqiN"
   },
   "outputs": [],
   "source": [
    "import os\n",
    "import zipfile\n",
    "import random\n",
    "import shutil\n",
    "import tensorflow as tf\n",
    "from tensorflow.keras.preprocessing.image import ImageDataGenerator\n",
    "from shutil import copyfile\n",
    "import matplotlib.pyplot as plt"
   ]
  },
  {
   "cell_type": "markdown",
   "metadata": {
    "id": "bLTQd84RUs1j"
   },
   "source": [
    "Download the dataset from its original source by running the cell below. \n",
    "\n",
    "Note that the `zip` file that contains the images is unzipped under the `/tmp` directory."
   ]
  },
  {
   "cell_type": "code",
   "execution_count": 2,
   "metadata": {
    "id": "3sd9dQWa23aj",
    "lines_to_next_cell": 2
   },
   "outputs": [
    {
     "name": "stdout",
     "output_type": "stream",
     "text": [
      "--2022-03-30 09:12:00--  https://download.microsoft.com/download/3/E/1/3E1C3F21-ECDB-4869-8368-6DEBA77B919F/kagglecatsanddogs_3367a.zip\n",
      "Resolving download.microsoft.com (download.microsoft.com)... 104.75.0.70, 2600:1410:4000:1a2::e59, 2600:1410:4000:1ab::e59, ...\n",
      "Connecting to download.microsoft.com (download.microsoft.com)|104.75.0.70|:443... connected.\n",
      "HTTP request sent, awaiting response... 200 OK\n",
      "Length: 824894548 (787M) [application/octet-stream]\n",
      "Saving to: ‘/tmp/cats-and-dogs.zip’\n",
      "\n",
      "/tmp/cats-and-dogs. 100%[===================>] 786.68M  81.9MB/s    in 10s     \n",
      "\n",
      "2022-03-30 09:12:11 (75.7 MB/s) - ‘/tmp/cats-and-dogs.zip’ saved [824894548/824894548]\n",
      "\n"
     ]
    }
   ],
   "source": [
    "# If the URL doesn't work, visit https://www.microsoft.com/en-us/download/confirmation.aspx?id=54765\n",
    "# And right click on the 'Download Manually' link to get a new URL to the dataset\n",
    "\n",
    "# Note: This is a very large dataset and will take some time to download\n",
    "\n",
    "!wget --no-check-certificate \\\n",
    "    \"https://download.microsoft.com/download/3/E/1/3E1C3F21-ECDB-4869-8368-6DEBA77B919F/kagglecatsanddogs_3367a.zip\" \\\n",
    "    -O \"/tmp/cats-and-dogs.zip\"\n",
    "\n",
    "local_zip = '/tmp/cats-and-dogs.zip'\n",
    "zip_ref   = zipfile.ZipFile(local_zip, 'r')\n",
    "zip_ref.extractall('/tmp')\n",
    "zip_ref.close()"
   ]
  },
  {
   "cell_type": "markdown",
   "metadata": {
    "id": "e_HsUV9WVJHL"
   },
   "source": [
    "Now the images are stored within the `/tmp/PetImages` directory. There is a subdirectory for each class, so one for dogs and one for cats."
   ]
  },
  {
   "cell_type": "code",
   "execution_count": 3,
   "metadata": {
    "id": "DM851ZmN28J3"
   },
   "outputs": [
    {
     "name": "stdout",
     "output_type": "stream",
     "text": [
      "There are 12501 images of dogs.\n",
      "There are 12501 images of cats.\n"
     ]
    }
   ],
   "source": [
    "source_path = '/tmp/PetImages'\n",
    "\n",
    "source_path_dogs = os.path.join(source_path, 'Dog')\n",
    "source_path_cats = os.path.join(source_path, 'Cat')\n",
    "\n",
    "\n",
    "# os.listdir returns a list containing all files under the given path\n",
    "print(f\"There are {len(os.listdir(source_path_dogs))} images of dogs.\")\n",
    "print(f\"There are {len(os.listdir(source_path_cats))} images of cats.\")"
   ]
  },
  {
   "cell_type": "markdown",
   "metadata": {
    "id": "G7dI86rmRGmC"
   },
   "source": [
    "**Expected Output:**\n",
    "\n",
    "```\n",
    "There are 12501 images of dogs.\n",
    "There are 12501 images of cats.\n",
    "```"
   ]
  },
  {
   "cell_type": "markdown",
   "metadata": {
    "id": "iFbMliudNIjW"
   },
   "source": [
    "You will need a directory for cats-v-dogs, and subdirectories for training\n",
    "and testing. These in turn will need subdirectories for 'cats' and 'dogs'. To accomplish this, complete the `create_train_test_dirs` below:"
   ]
  },
  {
   "cell_type": "code",
   "execution_count": 4,
   "metadata": {
    "cellView": "code",
    "id": "F-QkLjxpmyK2"
   },
   "outputs": [],
   "source": [
    "# Define root directory\n",
    "root_dir = '/tmp/cats-v-dogs'\n",
    "\n",
    "# Empty directory to prevent FileExistsError is the function is run several times\n",
    "if os.path.exists(root_dir):\n",
    "  shutil.rmtree(root_dir)\n",
    "\n",
    "# GRADED FUNCTION: create_train_test_dirs\n",
    "def create_train_test_dirs(root_path):\n",
    "  ### START CODE HERE\n",
    "\n",
    "  # HINT:\n",
    "  # Use os.makedirs to create your directories with intermediate subdirectories\n",
    "  # Don't hardcode the paths. Use os.path.join to append the new directories to the root_path parameter\n",
    "    training_dir = os.path.join(root_path, \"training\")\n",
    "    testing_dir = os.path.join(root_path, \"testing\")\n",
    "    os.makedirs(os.path.join(training_dir, \"cats\"))\n",
    "    os.makedirs(os.path.join(training_dir, \"dogs\"))\n",
    "    os.makedirs(os.path.join(testing_dir, \"cats\"))\n",
    "    os.makedirs(os.path.join(testing_dir, \"dogs\"))\n",
    "    \n",
    "  \n",
    "  ### END CODE HERE\n",
    "\n",
    "  \n",
    "try:\n",
    "  create_train_test_dirs(root_path=root_dir)\n",
    "except FileExistsError:\n",
    "  print(\"You should not be seeing this since the upper directory is removed beforehand\")"
   ]
  },
  {
   "cell_type": "code",
   "execution_count": 5,
   "metadata": {
    "id": "5dhtL344OK00"
   },
   "outputs": [
    {
     "name": "stdout",
     "output_type": "stream",
     "text": [
      "/tmp/cats-v-dogs/testing\n",
      "/tmp/cats-v-dogs/training\n",
      "/tmp/cats-v-dogs/testing/cats\n",
      "/tmp/cats-v-dogs/testing/dogs\n",
      "/tmp/cats-v-dogs/training/cats\n",
      "/tmp/cats-v-dogs/training/dogs\n"
     ]
    }
   ],
   "source": [
    "# Test your create_train_test_dirs function\n",
    "\n",
    "for rootdir, dirs, files in os.walk(root_dir):\n",
    "    for subdir in dirs:\n",
    "        print(os.path.join(rootdir, subdir))"
   ]
  },
  {
   "cell_type": "markdown",
   "metadata": {
    "id": "D7A0RK3IQsvg"
   },
   "source": [
    "**Expected Output (directory order might vary):**\n",
    "\n",
    "``` txt\n",
    "/tmp/cats-v-dogs/training\n",
    "/tmp/cats-v-dogs/testing\n",
    "/tmp/cats-v-dogs/training/cats\n",
    "/tmp/cats-v-dogs/training/dogs\n",
    "/tmp/cats-v-dogs/testing/cats\n",
    "/tmp/cats-v-dogs/testing/dogs\n",
    "\n",
    "```"
   ]
  },
  {
   "cell_type": "markdown",
   "metadata": {
    "id": "R93T7HdE5txZ"
   },
   "source": [
    "Code the `split_data` function which takes in the following arguments:\n",
    "- SOURCE: directory containing the files\n",
    "\n",
    "- TRAINING: directory that a portion of the files will be copied to (will be used for training)\n",
    "- TESTING: directory that a portion of the files will be copied to (will be used for testing)\n",
    "- SPLIT SIZE: to determine the portion\n",
    "\n",
    "The files should be randomized, so that the training set is a random sample of the files, and the test set is made up of the remaining files.\n",
    "\n",
    "For example, if `SOURCE` is `PetImages/Cat`, and `SPLIT` SIZE is .9 then 90% of the images in `PetImages/Cat` will be copied to the `TRAINING` dir\n",
    "and 10% of the images will be copied to the `TESTING` dir.\n",
    "\n",
    "All images should be checked before the copy, so if they have a zero file length, they will be omitted from the copying process. If this is the case then your function should print out a message such as `\"filename is zero length, so ignoring.\"`. **You should perform this check before the split so that only non-zero images are considered when doing the actual split.**\n",
    "\n",
    "\n",
    "Hints:\n",
    "\n",
    "- `os.listdir(DIRECTORY)` returns a list with the contents of that directory.\n",
    "\n",
    "- `os.path.getsize(PATH)` returns the size of the file\n",
    "\n",
    "- `copyfile(source, destination)` copies a file from source to destination\n",
    "\n",
    "- `random.sample(list, len(list))` shuffles a list"
   ]
  },
  {
   "cell_type": "code",
   "execution_count": 6,
   "metadata": {
    "cellView": "code",
    "id": "zvSODo0f9LaU"
   },
   "outputs": [],
   "source": [
    "# GRADED FUNCTION: split_data\n",
    "def split_data(SOURCE, TRAINING, TESTING, SPLIT_SIZE):\n",
    "\n",
    "  ### START CODE HERE\n",
    "    original_list = os.listdir(SOURCE)\n",
    "    filtered_list = []\n",
    "    for i in original_list:\n",
    "        if os.path.getsize(os.path.join(SOURCE, i)) == 0:\n",
    "            print(f\"{i} is zero length, so ignoring\")\n",
    "        else:\n",
    "            filtered_list.append(i)\n",
    "    shuffled_list = random.sample(filtered_list, len(filtered_list))\n",
    "    split = int(SPLIT_SIZE * len(filtered_list))\n",
    "    training_list = shuffled_list[:split]\n",
    "    testing_list = shuffled_list[split:]\n",
    "    for i in training_list:\n",
    "        copyfile(os.path.join(SOURCE, i), os.path.join(TRAINING, i))\n",
    "    for i in testing_list:\n",
    "        copyfile(os.path.join(SOURCE, i), os.path.join(TESTING, i))    \n",
    "    \n",
    "\n",
    "\n",
    "  ### END CODE HERE\n"
   ]
  },
  {
   "cell_type": "code",
   "execution_count": 7,
   "metadata": {
    "id": "FlIdoUeX9S-9"
   },
   "outputs": [
    {
     "name": "stdout",
     "output_type": "stream",
     "text": [
      "666.jpg is zero length, so ignoring\n",
      "11702.jpg is zero length, so ignoring\n",
      "\n",
      "\n",
      "There are 11250 images of cats for training\n",
      "There are 11250 images of dogs for training\n",
      "There are 1250 images of cats for testing\n",
      "There are 1250 images of dogs for testing\n"
     ]
    }
   ],
   "source": [
    "# Test your split_data function\n",
    "\n",
    "# Define paths\n",
    "CAT_SOURCE_DIR = \"/tmp/PetImages/Cat/\"\n",
    "DOG_SOURCE_DIR = \"/tmp/PetImages/Dog/\"\n",
    "\n",
    "TRAINING_DIR = \"/tmp/cats-v-dogs/training/\"\n",
    "TESTING_DIR = \"/tmp/cats-v-dogs/testing/\"\n",
    "\n",
    "TRAINING_CATS_DIR = os.path.join(TRAINING_DIR, \"cats/\")\n",
    "TESTING_CATS_DIR = os.path.join(TESTING_DIR, \"cats/\")\n",
    "\n",
    "TRAINING_DOGS_DIR = os.path.join(TRAINING_DIR, \"dogs/\")\n",
    "TESTING_DOGS_DIR = os.path.join(TESTING_DIR, \"dogs/\")\n",
    "\n",
    "# Empty directories in case you run this cell multiple times\n",
    "if len(os.listdir(TRAINING_CATS_DIR)) > 0:\n",
    "  for file in os.scandir(TRAINING_CATS_DIR):\n",
    "    os.remove(file.path)\n",
    "if len(os.listdir(TRAINING_DOGS_DIR)) > 0:\n",
    "  for file in os.scandir(TRAINING_DOGS_DIR):\n",
    "    os.remove(file.path)\n",
    "if len(os.listdir(TESTING_CATS_DIR)) > 0:\n",
    "  for file in os.scandir(TESTING_CATS_DIR):\n",
    "    os.remove(file.path)\n",
    "if len(os.listdir(TESTING_DOGS_DIR)) > 0:\n",
    "  for file in os.scandir(TESTING_DOGS_DIR):\n",
    "    os.remove(file.path)\n",
    "\n",
    "# Define proportion of images used for training\n",
    "split_size = .9\n",
    "\n",
    "# Run the function\n",
    "# NOTE: Messages about zero length images should be printed out\n",
    "split_data(CAT_SOURCE_DIR, TRAINING_CATS_DIR, TESTING_CATS_DIR, split_size)\n",
    "split_data(DOG_SOURCE_DIR, TRAINING_DOGS_DIR, TESTING_DOGS_DIR, split_size)\n",
    "\n",
    "# Check that the number of images matches the expected output\n",
    "print(f\"\\n\\nThere are {len(os.listdir(TRAINING_CATS_DIR))} images of cats for training\")\n",
    "print(f\"There are {len(os.listdir(TRAINING_DOGS_DIR))} images of dogs for training\")\n",
    "print(f\"There are {len(os.listdir(TESTING_CATS_DIR))} images of cats for testing\")\n",
    "print(f\"There are {len(os.listdir(TESTING_DOGS_DIR))} images of dogs for testing\")"
   ]
  },
  {
   "cell_type": "markdown",
   "metadata": {
    "id": "hvskJNOFVSaz"
   },
   "source": [
    "**Expected Output:**\n",
    "\n",
    "```\n",
    "666.jpg is zero length, so ignoring.\n",
    "11702.jpg is zero length, so ignoring.\n",
    "```\n",
    "\n",
    "```\n",
    "There are 11250 images of cats for training\n",
    "There are 11250 images of dogs for training\n",
    "There are 1250 images of cats for testing\n",
    "There are 1250 images of dogs for testing\n",
    "```"
   ]
  },
  {
   "cell_type": "markdown",
   "metadata": {
    "id": "Zil4QmOD_mXF"
   },
   "source": [
    "Now that you have successfully organized the data in a way that can be easily fed to Keras' `ImageDataGenerator`, it is time for you to code the generators that will yield batches of images, both for training and validation. For this, complete the `train_val_generators` function below.\n",
    "\n",
    "Something important to note is that the images in this dataset come in a variety of resolutions. Luckily, the `flow_from_directory` method allows you to standarize this by defining a tuple called `target_size` that will be used to convert each image to this target resolution. **For this exercise use a `target_size` of (150, 150)**.\n",
    "\n",
    "**Note:** So far, you have seen the term `testing` being used a lot for referring to a subset of images within the dataset. In this exercise, all of the `testing` data is actually being used as `validation` data. This is not very important within the context of the task at hand but it is worth mentioning to avoid confusion."
   ]
  },
  {
   "cell_type": "code",
   "execution_count": 8,
   "metadata": {
    "cellView": "code",
    "id": "fQrZfVgz4j2g"
   },
   "outputs": [],
   "source": [
    "# GRADED FUNCTION: train_val_generators\n",
    "def train_val_generators(TRAINING_DIR, VALIDATION_DIR):\n",
    "  ### START CODE HERE\n",
    "\n",
    "  # Instantiate the ImageDataGenerator class (don't forget to set the arguments to augment the images)\n",
    "  train_datagen = ImageDataGenerator(rescale=1.0/255.0,\n",
    "                                     rotation_range=40,\n",
    "                                     width_shift_range=0.2,\n",
    "                                     height_shift_range=0.2,\n",
    "                                     shear_range=0.2,\n",
    "                                     zoom_range=0.2,\n",
    "                                     horizontal_flip=True,\n",
    "                                     fill_mode='nearest')\n",
    "\n",
    "  # Pass in the appropriate arguments to the flow_from_directory method\n",
    "  train_generator = train_datagen.flow_from_directory(directory=TRAINING_DIR,\n",
    "                                                      batch_size=20,\n",
    "                                                      class_mode='binary',\n",
    "                                                      target_size=(150, 150))\n",
    "\n",
    "  # Instantiate the ImageDataGenerator class (don't forget to set the rescale argument)\n",
    "  validation_datagen = ImageDataGenerator(rescale=1.0/255.0)\n",
    "\n",
    "  # Pass in the appropriate arguments to the flow_from_directory method\n",
    "  validation_generator = validation_datagen.flow_from_directory(directory=VALIDATION_DIR,\n",
    "                                                                batch_size=20,\n",
    "                                                                class_mode='binary',\n",
    "                                                                target_size=(150, 150))\n",
    "  ### END CODE HERE\n",
    "  return train_generator, validation_generator\n"
   ]
  },
  {
   "cell_type": "code",
   "execution_count": 9,
   "metadata": {
    "id": "qM7FxrjGiobD"
   },
   "outputs": [
    {
     "name": "stdout",
     "output_type": "stream",
     "text": [
      "Found 22498 images belonging to 2 classes.\n",
      "Found 2500 images belonging to 2 classes.\n"
     ]
    }
   ],
   "source": [
    "# Test your generators\n",
    "train_generator, validation_generator = train_val_generators(TRAINING_DIR, TESTING_DIR)"
   ]
  },
  {
   "cell_type": "markdown",
   "metadata": {
    "id": "tiPNmSfZjHwJ"
   },
   "source": [
    "**Expected Output:**\n",
    "\n",
    "```\n",
    "Found 22498 images belonging to 2 classes.\n",
    "Found 2500 images belonging to 2 classes.\n",
    "```\n"
   ]
  },
  {
   "cell_type": "markdown",
   "metadata": {
    "id": "TI3oEmyQCZoO"
   },
   "source": [
    "One last step before training is to define the architecture of the model that will be trained.\n",
    "\n",
    "Complete the `create_model` function below which should return a Keras' `Sequential` model.\n",
    "\n",
    "Aside from defining the architecture of the model, you should also compile it so make sure to use a `loss` function that is compatible with the `class_mode` you defined in the previous exercise, which should also be compatible with the output of your network. You can tell if they aren't compatible if you get an error during training.\n",
    "\n",
    "**Note that you should use at least 3 convolution layers to achieve the desired performance.**"
   ]
  },
  {
   "cell_type": "code",
   "execution_count": 11,
   "metadata": {
    "cellView": "code",
    "id": "oDPK8tUB_O9e",
    "lines_to_next_cell": 2
   },
   "outputs": [],
   "source": [
    "# GRADED FUNCTION: create_model\n",
    "def create_model():\n",
    "  # DEFINE A KERAS MODEL TO CLASSIFY CATS V DOGS\n",
    "  # USE AT LEAST 3 CONVOLUTION LAYERS\n",
    "\n",
    "  ### START CODE HERE\n",
    "\n",
    "  model = tf.keras.models.Sequential([ \n",
    "      tf.keras.layers.Conv2D(16, (3,3), activation='relu', input_shape=(150,150,3)),\n",
    "      tf.keras.layers.MaxPool2D(pool_size=(2,2)),\n",
    "      tf.keras.layers.Conv2D(32, (3,3), activation='relu'),\n",
    "      tf.keras.layers.MaxPool2D(pool_size=(2,2)),\n",
    "      tf.keras.layers.Conv2D(64, (3,3), activation='relu'),\n",
    "      tf.keras.layers.MaxPool2D(pool_size=(2,2)),\n",
    "      tf.keras.layers.Conv2D(64, (3,3), activation='relu'),\n",
    "      tf.keras.layers.MaxPool2D(pool_size=(2,2)),\n",
    "      tf.keras.layers.Flatten(),\n",
    "      tf.keras.layers.Dense(512, activation='relu'),                       \n",
    "      tf.keras.layers.Dense(1, activation='sigmoid')                       \n",
    "  ])\n",
    "\n",
    "  \n",
    "  model.compile(optimizer='rmsprop',\n",
    "                loss='binary_crossentropy',\n",
    "                metrics=['accuracy']) \n",
    "    \n",
    "  ### END CODE HERE\n",
    "\n",
    "  return model\n"
   ]
  },
  {
   "cell_type": "markdown",
   "metadata": {
    "id": "SMFNJZmTCZv6"
   },
   "source": [
    "Now it is time to train your model!\n",
    "\n",
    "Note: You can ignore the `UserWarning: Possibly corrupt EXIF data.` warnings."
   ]
  },
  {
   "cell_type": "code",
   "execution_count": 12,
   "metadata": {
    "id": "5qE1G6JB4fMn"
   },
   "outputs": [
    {
     "name": "stderr",
     "output_type": "stream",
     "text": [
      "2022-03-30 11:13:51.069407: I tensorflow/stream_executor/cuda/cuda_gpu_executor.cc:939] successful NUMA node read from SysFS had negative value (-1), but there must be at least one NUMA node, so returning NUMA node zero\n",
      "2022-03-30 11:13:51.080310: I tensorflow/stream_executor/cuda/cuda_gpu_executor.cc:939] successful NUMA node read from SysFS had negative value (-1), but there must be at least one NUMA node, so returning NUMA node zero\n",
      "2022-03-30 11:13:51.080747: I tensorflow/stream_executor/cuda/cuda_gpu_executor.cc:939] successful NUMA node read from SysFS had negative value (-1), but there must be at least one NUMA node, so returning NUMA node zero\n",
      "2022-03-30 11:13:51.082276: I tensorflow/core/platform/cpu_feature_guard.cc:151] This TensorFlow binary is optimized with oneAPI Deep Neural Network Library (oneDNN) to use the following CPU instructions in performance-critical operations:  AVX2 FMA\n",
      "To enable them in other operations, rebuild TensorFlow with the appropriate compiler flags.\n",
      "2022-03-30 11:13:51.082921: I tensorflow/stream_executor/cuda/cuda_gpu_executor.cc:939] successful NUMA node read from SysFS had negative value (-1), but there must be at least one NUMA node, so returning NUMA node zero\n",
      "2022-03-30 11:13:51.083507: I tensorflow/stream_executor/cuda/cuda_gpu_executor.cc:939] successful NUMA node read from SysFS had negative value (-1), but there must be at least one NUMA node, so returning NUMA node zero\n",
      "2022-03-30 11:13:51.083906: I tensorflow/stream_executor/cuda/cuda_gpu_executor.cc:939] successful NUMA node read from SysFS had negative value (-1), but there must be at least one NUMA node, so returning NUMA node zero\n",
      "2022-03-30 11:13:52.198071: I tensorflow/stream_executor/cuda/cuda_gpu_executor.cc:939] successful NUMA node read from SysFS had negative value (-1), but there must be at least one NUMA node, so returning NUMA node zero\n",
      "2022-03-30 11:13:52.198356: I tensorflow/stream_executor/cuda/cuda_gpu_executor.cc:939] successful NUMA node read from SysFS had negative value (-1), but there must be at least one NUMA node, so returning NUMA node zero\n",
      "2022-03-30 11:13:52.198600: I tensorflow/stream_executor/cuda/cuda_gpu_executor.cc:939] successful NUMA node read from SysFS had negative value (-1), but there must be at least one NUMA node, so returning NUMA node zero\n",
      "2022-03-30 11:13:52.198844: I tensorflow/core/common_runtime/gpu/gpu_device.cc:1525] Created device /job:localhost/replica:0/task:0/device:GPU:0 with 6523 MB memory:  -> device: 0, name: NVIDIA GeForce GTX 1070 Ti, pci bus id: 0000:01:00.0, compute capability: 6.1\n"
     ]
    },
    {
     "name": "stdout",
     "output_type": "stream",
     "text": [
      "Epoch 1/15\n"
     ]
    },
    {
     "name": "stderr",
     "output_type": "stream",
     "text": [
      "2022-03-30 11:13:53.293312: I tensorflow/stream_executor/cuda/cuda_dnn.cc:366] Loaded cuDNN version 8201\n"
     ]
    },
    {
     "name": "stdout",
     "output_type": "stream",
     "text": [
      " 550/1125 [=============>................] - ETA: 52s - loss: 0.6951 - accuracy: 0.5547"
     ]
    },
    {
     "name": "stderr",
     "output_type": "stream",
     "text": [
      "/home/ali/.local/lib/python3.8/site-packages/PIL/TiffImagePlugin.py:811: UserWarning: Truncated File Read\n",
      "  warnings.warn(str(msg))\n"
     ]
    },
    {
     "name": "stdout",
     "output_type": "stream",
     "text": [
      "1125/1125 [==============================] - 108s 95ms/step - loss: 0.6650 - accuracy: 0.6012 - val_loss: 0.5815 - val_accuracy: 0.6980\n",
      "Epoch 2/15\n",
      "1125/1125 [==============================] - 107s 95ms/step - loss: 0.6001 - accuracy: 0.6834 - val_loss: 0.6506 - val_accuracy: 0.6544\n",
      "Epoch 3/15\n",
      "1125/1125 [==============================] - 106s 95ms/step - loss: 0.5591 - accuracy: 0.7190 - val_loss: 0.4617 - val_accuracy: 0.7960\n",
      "Epoch 4/15\n",
      "1125/1125 [==============================] - 107s 95ms/step - loss: 0.5313 - accuracy: 0.7403 - val_loss: 0.4234 - val_accuracy: 0.8028\n",
      "Epoch 5/15\n",
      "1125/1125 [==============================] - 106s 94ms/step - loss: 0.5045 - accuracy: 0.7595 - val_loss: 0.4089 - val_accuracy: 0.8252\n",
      "Epoch 6/15\n",
      "1125/1125 [==============================] - 107s 95ms/step - loss: 0.4805 - accuracy: 0.7777 - val_loss: 0.4070 - val_accuracy: 0.8140\n",
      "Epoch 7/15\n",
      "1125/1125 [==============================] - 107s 95ms/step - loss: 0.4738 - accuracy: 0.7862 - val_loss: 0.3646 - val_accuracy: 0.8580\n",
      "Epoch 8/15\n",
      "1125/1125 [==============================] - 106s 94ms/step - loss: 0.4597 - accuracy: 0.7956 - val_loss: 0.4692 - val_accuracy: 0.7872\n",
      "Epoch 9/15\n",
      "1125/1125 [==============================] - 107s 95ms/step - loss: 0.4564 - accuracy: 0.7972 - val_loss: 0.3711 - val_accuracy: 0.8504\n",
      "Epoch 10/15\n",
      "1125/1125 [==============================] - 106s 94ms/step - loss: 0.4428 - accuracy: 0.8061 - val_loss: 0.5294 - val_accuracy: 0.8052\n",
      "Epoch 11/15\n",
      "1125/1125 [==============================] - 107s 95ms/step - loss: 0.4432 - accuracy: 0.8033 - val_loss: 0.3217 - val_accuracy: 0.8672\n",
      "Epoch 12/15\n",
      "1125/1125 [==============================] - 107s 95ms/step - loss: 0.4421 - accuracy: 0.8042 - val_loss: 0.3493 - val_accuracy: 0.8460\n",
      "Epoch 13/15\n",
      "1125/1125 [==============================] - 106s 95ms/step - loss: 0.4416 - accuracy: 0.8092 - val_loss: 0.3482 - val_accuracy: 0.8460\n",
      "Epoch 14/15\n",
      "1125/1125 [==============================] - 106s 94ms/step - loss: 0.4364 - accuracy: 0.8122 - val_loss: 0.3745 - val_accuracy: 0.8428\n",
      "Epoch 15/15\n",
      "1125/1125 [==============================] - 106s 95ms/step - loss: 0.4417 - accuracy: 0.8036 - val_loss: 0.3276 - val_accuracy: 0.8644\n"
     ]
    }
   ],
   "source": [
    "# Get the untrained model\n",
    "model = create_model()\n",
    "\n",
    "# Train the model\n",
    "# Note that this may take some time.\n",
    "history = model.fit(train_generator,\n",
    "                    epochs=15,\n",
    "                    verbose=1,\n",
    "                    validation_data=validation_generator)"
   ]
  },
  {
   "cell_type": "markdown",
   "metadata": {
    "id": "VGsaDMc-GMd4"
   },
   "source": [
    "Once training has finished, you can run the following cell to check the training and validation accuracy achieved at the end of each epoch.\n",
    "\n",
    "**To pass this assignment, your model should achieve a training and validation accuracy of at least 80% and the final testing accuracy should be either higher than the training one or have a 5% difference at maximum**. If your model didn't achieve these thresholds, try training again with a different model architecture, remember to use at least 3 convolutional layers or try tweaking the image augmentation process.\n",
    "\n",
    "You might wonder why the training threshold to pass this assignment is significantly lower compared to last week's assignment. Image augmentation does help with overfitting but usually this comes at the expense of requiring more training time. To keep the training time reasonable, the same number of epochs as in the previous assignment are kept. \n",
    "\n",
    "However, as an optional exercise you are encouraged to try training for more epochs and to achieve really good training and validation accuracies."
   ]
  },
  {
   "cell_type": "code",
   "execution_count": 13,
   "metadata": {
    "id": "MWZrJN4-65RC"
   },
   "outputs": [
    {
     "data": {
      "image/png": "[encoded data removed]",
      "text/plain": [
       "<Figure size 432x288 with 1 Axes>"
      ]
     },
     "metadata": {
      "needs_background": "light"
     },
     "output_type": "display_data"
    },
    {
     "name": "stdout",
     "output_type": "stream",
     "text": [
      "\n"
     ]
    },
    {
     "data": {
      "image/png": "[encoded data removed]",
      "text/plain": [
       "<Figure size 432x288 with 1 Axes>"
      ]
     },
     "metadata": {
      "needs_background": "light"
     },
     "output_type": "display_data"
    }
   ],
   "source": [
    "#-----------------------------------------------------------\n",
    "# Retrieve a list of list results on training and test data\n",
    "# sets for each training epoch\n",
    "#-----------------------------------------------------------\n",
    "acc=history.history['accuracy']\n",
    "val_acc=history.history['val_accuracy']\n",
    "loss=history.history['loss']\n",
    "val_loss=history.history['val_loss']\n",
    "\n",
    "epochs=range(len(acc)) # Get number of epochs\n",
    "\n",
    "#------------------------------------------------\n",
    "# Plot training and validation accuracy per epoch\n",
    "#------------------------------------------------\n",
    "plt.plot(epochs, acc, 'r', \"Training Accuracy\")\n",
    "plt.plot(epochs, val_acc, 'b', \"Validation Accuracy\")\n",
    "plt.title('Training and validation accuracy')\n",
    "plt.show()\n",
    "print(\"\")\n",
    "\n",
    "#------------------------------------------------\n",
    "# Plot training and validation loss per epoch\n",
    "#------------------------------------------------\n",
    "plt.plot(epochs, loss, 'r', \"Training Loss\")\n",
    "plt.plot(epochs, val_loss, 'b', \"Validation Loss\")\n",
    "plt.show()"
   ]
  },
  {
   "cell_type": "markdown",
   "metadata": {
    "id": "NYIaqsN2pav6"
   },
   "source": [
    "You will probably encounter that the model is overfitting, which means that it is doing a great job at classifying the images in the training set but struggles with new data. This is perfectly fine and you will learn how to mitigate this issue in the upcomming week.\n",
    "\n",
    "Before closing the assignment, be sure to also download the `history.pkl` file which contains the information of the training history of your model. You can download this file by running the cell below:"
   ]
  },
  {
   "cell_type": "code",
   "execution_count": 17,
   "metadata": {
    "id": "yWcrc9nZTsHj"
   },
   "outputs": [],
   "source": [
    "def download_history():\n",
    "  import pickle\n",
    "#   from google.colab import files\n",
    "\n",
    "  with open('history_augmented.pkl', 'wb') as f:\n",
    "    pickle.dump(history.history, f)\n",
    "\n",
    "#   files.download('history_augmented.pkl')\n",
    "\n",
    "download_history()"
   ]
  },
  {
   "cell_type": "markdown",
   "metadata": {
    "id": "yEj7UVe0OgMq"
   },
   "source": [
    "You will also need to submit this notebook for grading. To download it, click on the `File` tab in the upper left corner of the screen then click on `Download` -> `Download .ipynb`. You can name it anything you want as long as it is a valid `.ipynb` (jupyter notebook) file."
   ]
  },
  {
   "cell_type": "markdown",
   "metadata": {
    "id": "joAaZSWWpbOI"
   },
   "source": [
    "**Congratulations on finishing this week's assignment!**\n",
    "\n",
    "You have successfully implemented a convolutional neural network that classifies images of cats and dogs, along with the helper functions needed to pre-process the images!\n",
    "\n",
    "**Keep it up!**"
   ]
  }
 ],
 "metadata": {
  "accelerator": "GPU",
  "colab": {
   "include_colab_link": true,
   "name": "Copy of C2W2_Assignment.ipynb",
   "provenance": []
  },
  "kernelspec": {
   "display_name": "Python 3 (ipykernel)",
   "language": "python",
   "name": "python3"
  },
  "language_info": {
   "codemirror_mode": {
    "name": "ipython",
    "version": 3
   },
   "file_extension": ".py",
   "mimetype": "text/x-python",
   "name": "python",
   "nbconvert_exporter": "python",
   "pygments_lexer": "ipython3",
   "version": "3.8.10"
  }
 },
 "nbformat": 4,
 "nbformat_minor": 1
}
